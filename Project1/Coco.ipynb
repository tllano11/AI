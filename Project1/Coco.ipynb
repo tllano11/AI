{
 "cells": [
  {
   "cell_type": "code",
   "execution_count": 45,
   "metadata": {
    "collapsed": false
   },
   "outputs": [
    {
     "data": {
      "image/png": "[encoded data removed]",
      "text/plain": [
       "<matplotlib.figure.Figure at 0x7f201c18ba58>"
      ]
     },
     "metadata": {},
     "output_type": "display_data"
    },
    {
     "name": "stdout",
     "output_type": "stream",
     "text": [
      "ERROR ficha donde ya habia\n"
     ]
    },
    {
     "data": {
      "image/png": "[encoded data removed]",
      "text/plain": [
       "<matplotlib.figure.Figure at 0x7f201c18ba58>"
      ]
     },
     "metadata": {},
     "output_type": "display_data"
    }
   ],
   "source": [
    "%matplotlib inline\n",
    "import time\n",
    "import random\n",
    "import pylab as pl\n",
    "from IPython import display\n",
    "\n",
    "#Tamaño del tambleo\n",
    "tam = 11\n",
    "#Colores de los jugadores\n",
    "colors = ['white','red','blue',]\n",
    "\n",
    "#Inicialización de la malla\n",
    "x = list(range(0,tam))\n",
    "for i in range(tam-1):\n",
    "    x_aux = x[-tam:]\n",
    "    for j in range(tam):\n",
    "        x_aux[j] += 0.5\n",
    "    x = x + x_aux\n",
    "y = []\n",
    "cont = tam-1\n",
    "for i in range(tam):\n",
    "    for j in range(tam):\n",
    "        y = y + [cont]\n",
    "    cont -= 1\n",
    "\n",
    "#Parametros de la grafica\n",
    "xmax = tam-1 + tam/2\n",
    "xmin = -0.5\n",
    "ymax = tam-1 + 0.5\n",
    "ymin = -0.5\n",
    "pl.xlim(xmin, xmax)\n",
    "pl.ylim(ymin, ymax)\n",
    "\n",
    "#Tamaño de los hexagonos\n",
    "size = (11/tam)**(2)\n",
    "\n",
    "#Inicialización del estado\n",
    "estado = [[0]*11 for i in range(11)]\n",
    "accionEj = [3,5] #Ejemplo de forma de la accion de salida del agente que pone una ficha en la fila 3 y columna 5\n",
    "\n",
    "#Ciclo general del juego, debera ser un while mientras nadie haya ganado o 121 iteraciones\n",
    "jugadorActual = 1 #inicializacion del jugador\n",
    "for i in range(tam*tam):\n",
    "    #aux = colors[random.randint(0,2)]\n",
    "    \n",
    "    #ASI VA A SER COMO SE LLAMA AL AGENTE DE CADA UNO\n",
    "\n",
    "    if jugadorActual == 1:\n",
    "        #####!! accion = Agente_Nombre1_Nombre2(estado,jugadorActual)\n",
    "         #Para efectos del ejemplo genera una accion aleatoria, esta puede repetir lugar porque esta comentada la parte que lo chequea\n",
    "        accionEj = [random.randint(0,10),random.randint(0,10)]\n",
    "    else:\n",
    "        #####!! accion = Agente_Nombre3_Nombre4(estado,jugadorActual)\n",
    "         #Para efectos del ejemplo genera una accion aleatoria, esta puede repetir lugar porque esta comentada la parte que lo chequea\n",
    "        accionEj = [random.randint(0,10),random.randint(0,10)]\n",
    "    #Actualizacion del estado del tablero\n",
    "    if estado[accionEj[0]][accionEj[1]] == 0:\n",
    "        estado[accionEj[0]][accionEj[1]] = jugadorActual\n",
    "            #Actualizacion del grafico\n",
    "        pl.scatter(x[accionEj[0]+11*accionEj[1]],y[accionEj[0]+11*accionEj[1]], marker='h', s=size*450, color=colors[jugadorActual])\n",
    "        display.clear_output(wait=True)\n",
    "        display.display(pl.gcf())\n",
    "        \n",
    "    else:\n",
    "        print('ERROR ficha donde ya habia')\n",
    "        break\n",
    "    \n",
    "    #ACA SE CHEQUEARIA SI ALGUIEN GANO\n",
    "    \n",
    "\n",
    "    #Cambio de jugados\n",
    "    if (i+1)%2 == 0:\n",
    "        jugadorActual = 2\n",
    "    else:\n",
    "        jugadorActual = 1\n",
    "   "
   ]
  },
  {
   "cell_type": "code",
   "execution_count": 10,
   "metadata": {
    "collapsed": false
   },
   "outputs": [
    {
     "name": "stdout",
     "output_type": "stream",
     "text": [
      "0.13161015510559082\n"
     ]
    }
   ],
   "source": [
    "start = time.time()\n",
    "cont = 0\n",
    "for i in range(0,1000000):\n",
    "    cont += 1\n",
    "end = time.time()\n",
    "print(end - start)"
   ]
  }
 ],
 "metadata": {
  "kernelspec": {
   "display_name": "Python 3",
   "language": "python",
   "name": "python3"
  },
  "language_info": {
   "codemirror_mode": {
    "name": "ipython",
    "version": 3
   },
   "file_extension": ".py",
   "mimetype": "text/x-python",
   "name": "python",
   "nbconvert_exporter": "python",
   "pygments_lexer": "ipython3",
   "version": "3.6.0"
  }
 },
 "nbformat": 4,
 "nbformat_minor": 2
}
